{
  "nbformat": 4,
  "nbformat_minor": 0,
  "metadata": {
    "colab": {
      "provenance": [],
      "authorship_tag": "ABX9TyNaxxMjXoOY4Puk8u+qWWVi",
      "include_colab_link": true
    },
    "kernelspec": {
      "name": "python3",
      "display_name": "Python 3"
    },
    "language_info": {
      "name": "python"
    }
  },
  "cells": [
    {
      "cell_type": "markdown",
      "metadata": {
        "id": "view-in-github",
        "colab_type": "text"
      },
      "source": [
        "<a href=\"https://colab.research.google.com/github/ClaraEHD/estructura_datos_eq7/blob/main/Untitled1.ipynb\" target=\"_parent\"><img src=\"https://colab.research.google.com/assets/colab-badge.svg\" alt=\"Open In Colab\"/></a>"
      ]
    },
    {
      "cell_type": "code",
      "execution_count": 1,
      "metadata": {
        "colab": {
          "base_uri": "https://localhost:8080/"
        },
        "id": "WGnlDpUTmrO3",
        "outputId": "c2eb4fe5-d38c-47e3-9044-2ec354c409af"
      },
      "outputs": [
        {
          "output_type": "stream",
          "name": "stdout",
          "text": [
            "hola mundo\n"
          ]
        }
      ],
      "source": [
        "print(\"hola mundo\")"
      ]
    },
    {
      "cell_type": "code",
      "source": [
        "def agregar_nota(notas):\n",
        "    nombre = input(\"Ingrese el nombre del cliente: \")\n",
        "    servicio = input(\"Ingrese el tipo de servicio: \")\n",
        "    costo = float(input(\"Ingrese el costo del servicio: \"))\n",
        "    notas.append({\"nombre\": nombre, \"servicio\": servicio, \"costo\": costo})\n",
        "    print(\"Nota agregada con éxito!\")\n",
        "\n",
        "def recuperar_nota(notas):\n",
        "    nombre = input(\"Ingrese el nombre del cliente: \")\n",
        "    for nota in notas:\n",
        "        if nota[\"nombre\"] == nombre:\n",
        "            print(\"Detalles de la nota:\")\n",
        "            print(f\"Nombre del cliente: {nota['nombre']}\")\n",
        "            print(f\"Tipo de servicio: {nota['servicio']}\")\n",
        "            print(f\"Costo del servicio: {nota['costo']}\")\n",
        "            return\n",
        "    print(\"No se encontró ninguna nota para el cliente ingresado.\")\n",
        "\n",
        "def cancelar_nota(notas, notas_canceladas):\n",
        "    nombre = input(\"Ingrese el nombre del cliente cuya nota desea cancelar: \")\n",
        "    for nota in notas:\n",
        "        if nota[\"nombre\"] == nombre:\n",
        "            notas.remove(nota)\n",
        "            notas_canceladas.append(nota)\n",
        "            print(\"Nota cancelada con éxito y guardada en la lista de notas canceladas.\")\n",
        "            return\n",
        "    print(\"No se encontró ninguna nota para el cliente ingresado.\")\n",
        "\n",
        "def recuperar_nota_cancelada(notas_canceladas):\n",
        "    nombre = input(\"Ingrese el nombre del cliente cuya nota cancelada desea recuperar: \")\n",
        "    for nota in notas_canceladas:\n",
        "        if nota[\"nombre\"] == nombre:\n",
        "            notas_canceladas.remove(nota)\n",
        "            return nota\n",
        "    print(\"No se encontró ninguna nota cancelada para el cliente ingresado.\")\n",
        "    return None\n",
        "\n",
        "def menu():\n",
        "    notas = []\n",
        "    notas_canceladas = []\n",
        "    while True:\n",
        "        print(\"\\n--- Menú Taller Mecánico ---\")\n",
        "        print(\"1. Agregar nota\")\n",
        "        print(\"2. Recuperar nota\")\n",
        "        print(\"3. Cancelar nota\")\n",
        "        print(\"4. Recuperar nota cancelada\")\n",
        "        print(\"5. Salir\")\n",
        "\n",
        "        opcion = input(\"Seleccione una opción: \")\n",
        "\n",
        "        if opcion == \"1\":\n",
        "            agregar_nota(notas)\n",
        "        elif opcion == \"2\":\n",
        "            recuperar_nota(notas)\n",
        "        elif opcion == \"3\":\n",
        "            cancelar_nota(notas, notas_canceladas)\n",
        "        elif opcion == \"4\":\n",
        "            nota_recuperada = recuperar_nota_cancelada(notas_canceladas)\n",
        "            if nota_recuperada:\n",
        "                notas.append(nota_recuperada)\n",
        "                print(\"Nota cancelada recuperada con éxito.\")\n",
        "        elif opcion == \"5\":\n",
        "            print(\"¡Hasta luego!\")\n",
        "            break\n",
        "        else:\n",
        "            print(\"Opción inválida. Por favor, elija una opción válida.\")\n",
        "\n",
        "if __name__ == \"__main__\":\n",
        "    menu()\n"
      ],
      "metadata": {
        "colab": {
          "base_uri": "https://localhost:8080/",
          "height": 911
        },
        "id": "jBaCFaU1mx0e",
        "outputId": "223d4ea0-a0e3-445f-f1cc-e3a286f8f307"
      },
      "execution_count": 4,
      "outputs": [
        {
          "output_type": "stream",
          "name": "stdout",
          "text": [
            "\n",
            "--- Menú Taller Mecánico ---\n",
            "1. Agregar nota\n",
            "2. Recuperar nota\n",
            "3. Cancelar nota\n",
            "4. Recuperar nota cancelada\n",
            "5. Salir\n",
            "Seleccione una opción: 1\n",
            "Ingrese el nombre del cliente: sebastian\n",
            "Ingrese el tipo de servicio: lavado de carro\n",
            "Ingrese el costo del servicio: 600\n",
            "Nota agregada con éxito!\n",
            "\n",
            "--- Menú Taller Mecánico ---\n",
            "1. Agregar nota\n",
            "2. Recuperar nota\n",
            "3. Cancelar nota\n",
            "4. Recuperar nota cancelada\n",
            "5. Salir\n",
            "Seleccione una opción: 2\n",
            "Ingrese el nombre del cliente: sebastian\n",
            "Detalles de la nota:\n",
            "Nombre del cliente: sebastian\n",
            "Tipo de servicio: lavado de carro\n",
            "Costo del servicio: 600.0\n",
            "\n",
            "--- Menú Taller Mecánico ---\n",
            "1. Agregar nota\n",
            "2. Recuperar nota\n",
            "3. Cancelar nota\n",
            "4. Recuperar nota cancelada\n",
            "5. Salir\n"
          ]
        },
        {
          "output_type": "error",
          "ename": "KeyboardInterrupt",
          "evalue": "ignored",
          "traceback": [
            "\u001b[0;31m---------------------------------------------------------------------------\u001b[0m",
            "\u001b[0;31mKeyboardInterrupt\u001b[0m                         Traceback (most recent call last)",
            "\u001b[0;32m<ipython-input-4-deb7dfb3b8e6>\u001b[0m in \u001b[0;36m<cell line: 68>\u001b[0;34m()\u001b[0m\n\u001b[1;32m     67\u001b[0m \u001b[0;34m\u001b[0m\u001b[0m\n\u001b[1;32m     68\u001b[0m \u001b[0;32mif\u001b[0m \u001b[0m__name__\u001b[0m \u001b[0;34m==\u001b[0m \u001b[0;34m\"__main__\"\u001b[0m\u001b[0;34m:\u001b[0m\u001b[0;34m\u001b[0m\u001b[0;34m\u001b[0m\u001b[0m\n\u001b[0;32m---> 69\u001b[0;31m     \u001b[0mmenu\u001b[0m\u001b[0;34m(\u001b[0m\u001b[0;34m)\u001b[0m\u001b[0;34m\u001b[0m\u001b[0;34m\u001b[0m\u001b[0m\n\u001b[0m",
            "\u001b[0;32m<ipython-input-4-deb7dfb3b8e6>\u001b[0m in \u001b[0;36mmenu\u001b[0;34m()\u001b[0m\n\u001b[1;32m     47\u001b[0m         \u001b[0mprint\u001b[0m\u001b[0;34m(\u001b[0m\u001b[0;34m\"5. Salir\"\u001b[0m\u001b[0;34m)\u001b[0m\u001b[0;34m\u001b[0m\u001b[0;34m\u001b[0m\u001b[0m\n\u001b[1;32m     48\u001b[0m \u001b[0;34m\u001b[0m\u001b[0m\n\u001b[0;32m---> 49\u001b[0;31m         \u001b[0mopcion\u001b[0m \u001b[0;34m=\u001b[0m \u001b[0minput\u001b[0m\u001b[0;34m(\u001b[0m\u001b[0;34m\"Seleccione una opción: \"\u001b[0m\u001b[0;34m)\u001b[0m\u001b[0;34m\u001b[0m\u001b[0;34m\u001b[0m\u001b[0m\n\u001b[0m\u001b[1;32m     50\u001b[0m \u001b[0;34m\u001b[0m\u001b[0m\n\u001b[1;32m     51\u001b[0m         \u001b[0;32mif\u001b[0m \u001b[0mopcion\u001b[0m \u001b[0;34m==\u001b[0m \u001b[0;34m\"1\"\u001b[0m\u001b[0;34m:\u001b[0m\u001b[0;34m\u001b[0m\u001b[0;34m\u001b[0m\u001b[0m\n",
            "\u001b[0;32m/usr/local/lib/python3.10/dist-packages/ipykernel/kernelbase.py\u001b[0m in \u001b[0;36mraw_input\u001b[0;34m(self, prompt)\u001b[0m\n\u001b[1;32m    849\u001b[0m                 \u001b[0;34m\"raw_input was called, but this frontend does not support input requests.\"\u001b[0m\u001b[0;34m\u001b[0m\u001b[0;34m\u001b[0m\u001b[0m\n\u001b[1;32m    850\u001b[0m             )\n\u001b[0;32m--> 851\u001b[0;31m         return self._input_request(str(prompt),\n\u001b[0m\u001b[1;32m    852\u001b[0m             \u001b[0mself\u001b[0m\u001b[0;34m.\u001b[0m\u001b[0m_parent_ident\u001b[0m\u001b[0;34m,\u001b[0m\u001b[0;34m\u001b[0m\u001b[0;34m\u001b[0m\u001b[0m\n\u001b[1;32m    853\u001b[0m             \u001b[0mself\u001b[0m\u001b[0;34m.\u001b[0m\u001b[0m_parent_header\u001b[0m\u001b[0;34m,\u001b[0m\u001b[0;34m\u001b[0m\u001b[0;34m\u001b[0m\u001b[0m\n",
            "\u001b[0;32m/usr/local/lib/python3.10/dist-packages/ipykernel/kernelbase.py\u001b[0m in \u001b[0;36m_input_request\u001b[0;34m(self, prompt, ident, parent, password)\u001b[0m\n\u001b[1;32m    893\u001b[0m             \u001b[0;32mexcept\u001b[0m \u001b[0mKeyboardInterrupt\u001b[0m\u001b[0;34m:\u001b[0m\u001b[0;34m\u001b[0m\u001b[0;34m\u001b[0m\u001b[0m\n\u001b[1;32m    894\u001b[0m                 \u001b[0;31m# re-raise KeyboardInterrupt, to truncate traceback\u001b[0m\u001b[0;34m\u001b[0m\u001b[0;34m\u001b[0m\u001b[0m\n\u001b[0;32m--> 895\u001b[0;31m                 \u001b[0;32mraise\u001b[0m \u001b[0mKeyboardInterrupt\u001b[0m\u001b[0;34m(\u001b[0m\u001b[0;34m\"Interrupted by user\"\u001b[0m\u001b[0;34m)\u001b[0m \u001b[0;32mfrom\u001b[0m \u001b[0;32mNone\u001b[0m\u001b[0;34m\u001b[0m\u001b[0;34m\u001b[0m\u001b[0m\n\u001b[0m\u001b[1;32m    896\u001b[0m             \u001b[0;32mexcept\u001b[0m \u001b[0mException\u001b[0m \u001b[0;32mas\u001b[0m \u001b[0me\u001b[0m\u001b[0;34m:\u001b[0m\u001b[0;34m\u001b[0m\u001b[0;34m\u001b[0m\u001b[0m\n\u001b[1;32m    897\u001b[0m                 \u001b[0mself\u001b[0m\u001b[0;34m.\u001b[0m\u001b[0mlog\u001b[0m\u001b[0;34m.\u001b[0m\u001b[0mwarning\u001b[0m\u001b[0;34m(\u001b[0m\u001b[0;34m\"Invalid Message:\"\u001b[0m\u001b[0;34m,\u001b[0m \u001b[0mexc_info\u001b[0m\u001b[0;34m=\u001b[0m\u001b[0;32mTrue\u001b[0m\u001b[0;34m)\u001b[0m\u001b[0;34m\u001b[0m\u001b[0;34m\u001b[0m\u001b[0m\n",
            "\u001b[0;31mKeyboardInterrupt\u001b[0m: Interrupted by user"
          ]
        }
      ]
    },
    {
      "cell_type": "code",
      "source": [
        "def agregar_nota(notas):\n",
        "    nombre = input(\"Ingrese el nombre del cliente: \")\n",
        "    servicio = input(\"Ingrese el tipo de servicio: \")\n",
        "    costo = float(input(\"Ingrese el costo del servicio: \"))\n",
        "    notas.append({\"nombre\": nombre, \"servicio\": servicio, \"costo\": costo, \"cancelada\": False})\n",
        "    print(\"Nota registrada con éxito!\")\n",
        "\n",
        "def consultar_por_periodo(notas):\n",
        "    fecha_inicial = input(\"Ingrese la fecha inicial (YYYY-MM-DD): \")\n",
        "    fecha_final = input(\"Ingrese la fecha final (YYYY-MM-DD): \")\n",
        "    notas_periodo = [nota for nota in notas if nota['fecha'] >= fecha_inicial and nota['fecha'] <= fecha_final]\n",
        "\n",
        "    if notas_periodo:\n",
        "        print(\"\\nReporte de notas por período:\")\n",
        "        print(\"Folio\\tNombre\\tServicio\\tCosto\")\n",
        "        for nota in notas_periodo:\n",
        "            print(f\"{nota['folio']}\\t{nota['nombre']}\\t{nota['servicio']}\\t{nota['costo']}\")\n",
        "    else:\n",
        "        print(\"No hay notas registradas para el período especificado.\")\n",
        "\n",
        "def consultar_por_folio(notas):\n",
        "    folio = input(\"Ingrese el folio de la nota: \")\n",
        "    for nota in notas:\n",
        "        if nota['folio'] == folio and not nota['cancelada']:\n",
        "            print(\"\\nDetalle de la nota:\")\n",
        "            print(f\"Folio: {nota['folio']}\")\n",
        "            print(f\"Nombre del cliente: {nota['nombre']}\")\n",
        "            print(f\"Tipo de servicio: {nota['servicio']}\")\n",
        "            print(f\"Costo del servicio: {nota['costo']}\")\n",
        "            return\n",
        "    print(\"No se encontró una nota válida para el folio ingresado.\")\n",
        "\n",
        "def cancelar_nota(notas, notas_canceladas):\n",
        "    folio = input(\"Ingrese el folio de la nota a cancelar: \")\n",
        "    for nota in notas:\n",
        "        if nota['folio'] == folio and not nota['cancelada']:\n",
        "            print(\"\\nDetalle de la nota a cancelar:\")\n",
        "            print(f\"Folio: {nota['folio']}\")\n",
        "            print(f\"Nombre del cliente: {nota['nombre']}\")\n",
        "            print(f\"Tipo de servicio: {nota['servicio']}\")\n",
        "            print(f\"Costo del servicio: {nota['costo']}\")\n",
        "            confirmacion = input(\"¿Desea confirmar la cancelación de esta nota? (s/n): \")\n",
        "            if confirmacion.lower() == 's':\n",
        "                nota['cancelada'] = True\n",
        "                notas_canceladas.append(nota)\n",
        "                print(\"Nota cancelada con éxito.\")\n",
        "            return\n",
        "    print(\"No se encontró una nota válida para el folio ingresado.\")\n",
        "\n",
        "def recuperar_nota_cancelada(notas_canceladas):\n",
        "    print(\"\\nNotas canceladas disponibles:\")\n",
        "    print(\"Folio\\tNombre\")\n",
        "    for nota in notas_canceladas:\n",
        "        print(f\"{nota['folio']}\\t{nota['nombre']}\")\n",
        "\n",
        "    folio_recuperar = input(\"Ingrese el folio de la nota cancelada que desea recuperar (o 'n' para cancelar): \")\n",
        "    if folio_recuperar == 'n':\n",
        "        return None\n",
        "\n",
        "    for nota in notas_canceladas:\n",
        "        if nota['folio'] == folio_recuperar:\n",
        "            print(\"\\nDetalle de la nota cancelada a recuperar:\")\n",
        "            print(f\"Folio: {nota['folio']}\")\n",
        "            print(f\"Nombre del cliente: {nota['nombre']}\")\n",
        "            print(f\"Tipo de servicio: {nota['servicio']}\")\n",
        "            print(f\"Costo del servicio: {nota['costo']}\")\n",
        "            confirmacion = input(\"¿Desea confirmar la recuperación de esta nota cancelada? (s/n): \")\n",
        "            if confirmacion.lower() == 's':\n",
        "                notas_canceladas.remove(nota)\n",
        "                return nota\n",
        "            else:\n",
        "                return None\n",
        "    print(\"No se encontró una nota cancelada válida para el folio ingresado.\")\n",
        "    return None\n",
        "\n",
        "def menu():\n",
        "    notas = []\n",
        "    notas_canceladas = []\n",
        "    folio_actual = 1\n",
        "\n",
        "    while True:\n",
        "        print(\"\\n--- Menú Taller Mecánico ---\")\n",
        "        print(\"1. Registrar una nota\")\n",
        "        print(\"2. Consultas y reportes\")\n",
        "        print(\"3. Cancelar una nota\")\n",
        "        print(\"4. Recuperar una nota\")\n",
        "        print(\"5. Salir\")\n",
        "\n",
        "        opcion = input(\"Seleccione una opción: \")\n",
        "\n",
        "        if opcion == \"1\":\n",
        "            agregar_nota(notas)\n",
        "            folio_actual += 1\n",
        "        elif opcion == \"2\":\n",
        "            print(\"\\n--- Submenú Consultas y Reportes ---\")\n",
        "            print(\"1. Consulta por período\")\n",
        "            print(\"2. Consulta por folio\")\n",
        "            subopcion = input(\"Seleccione una opción: \")\n",
        "            if subopcion == \"1\":\n",
        "                consultar_por_periodo(notas)\n",
        "            elif subopcion == \"2\":\n",
        "                consultar_por_folio(notas)\n",
        "            else:\n",
        "                print(\"Opción inválida. Por favor, elija una opción válida.\")\n",
        "        elif opcion == \"3\":\n",
        "            cancelar_nota(notas, notas_canceladas)\n",
        "        elif opcion == \"4\":\n",
        "            nota_recuperada = recuperar_nota_cancelada(notas_canceladas)\n",
        "            if nota_recuperada:\n",
        "                notas.append(nota_recuperada)\n",
        "                print(\"Nota cancelada recuperada con éxito.\")\n",
        "        elif opcion == \"5\":\n",
        "            confirmacion_salida = input(\"¿Está seguro de que desea salir? (s/n): \")\n",
        "            if confirmacion_salida.lower() == 's':\n",
        "                print(\"¡Hasta luego!\")\n",
        "                break\n",
        "        else:\n",
        "            print(\"Opción inválida. Por favor, elija una opción válida.\")\n",
        "\n",
        "if __name__ == \"__main__\":\n",
        "    menu()\n"
      ],
      "metadata": {
        "colab": {
          "base_uri": "https://localhost:8080/",
          "height": 477
        },
        "id": "roUYqZ93pzxd",
        "outputId": "0535ff13-0c46-4cf5-c21b-95af53307aff"
      },
      "execution_count": 6,
      "outputs": [
        {
          "metadata": {
            "tags": null
          },
          "name": "stdout",
          "output_type": "stream",
          "text": [
            "\n",
            "--- Menú Taller Mecánico ---\n",
            "1. Registrar una nota\n",
            "2. Consultas y reportes\n",
            "3. Cancelar una nota\n",
            "4. Recuperar una nota\n",
            "5. Salir\n"
          ]
        },
        {
          "output_type": "error",
          "ename": "KeyboardInterrupt",
          "evalue": "ignored",
          "traceback": [
            "\u001b[0;31m---------------------------------------------------------------------------\u001b[0m",
            "\u001b[0;31mKeyboardInterrupt\u001b[0m                         Traceback (most recent call last)",
            "\u001b[0;32m<ipython-input-6-b3f69de179d6>\u001b[0m in \u001b[0;36m<cell line: 120>\u001b[0;34m()\u001b[0m\n\u001b[1;32m    119\u001b[0m \u001b[0;34m\u001b[0m\u001b[0m\n\u001b[1;32m    120\u001b[0m \u001b[0;32mif\u001b[0m \u001b[0m__name__\u001b[0m \u001b[0;34m==\u001b[0m \u001b[0;34m\"__main__\"\u001b[0m\u001b[0;34m:\u001b[0m\u001b[0;34m\u001b[0m\u001b[0;34m\u001b[0m\u001b[0m\n\u001b[0;32m--> 121\u001b[0;31m     \u001b[0mmenu\u001b[0m\u001b[0;34m(\u001b[0m\u001b[0;34m)\u001b[0m\u001b[0;34m\u001b[0m\u001b[0;34m\u001b[0m\u001b[0m\n\u001b[0m",
            "\u001b[0;32m<ipython-input-6-b3f69de179d6>\u001b[0m in \u001b[0;36mmenu\u001b[0;34m()\u001b[0m\n\u001b[1;32m     87\u001b[0m         \u001b[0mprint\u001b[0m\u001b[0;34m(\u001b[0m\u001b[0;34m\"5. Salir\"\u001b[0m\u001b[0;34m)\u001b[0m\u001b[0;34m\u001b[0m\u001b[0;34m\u001b[0m\u001b[0m\n\u001b[1;32m     88\u001b[0m \u001b[0;34m\u001b[0m\u001b[0m\n\u001b[0;32m---> 89\u001b[0;31m         \u001b[0mopcion\u001b[0m \u001b[0;34m=\u001b[0m \u001b[0minput\u001b[0m\u001b[0;34m(\u001b[0m\u001b[0;34m\"Seleccione una opción: \"\u001b[0m\u001b[0;34m)\u001b[0m\u001b[0;34m\u001b[0m\u001b[0;34m\u001b[0m\u001b[0m\n\u001b[0m\u001b[1;32m     90\u001b[0m \u001b[0;34m\u001b[0m\u001b[0m\n\u001b[1;32m     91\u001b[0m         \u001b[0;32mif\u001b[0m \u001b[0mopcion\u001b[0m \u001b[0;34m==\u001b[0m \u001b[0;34m\"1\"\u001b[0m\u001b[0;34m:\u001b[0m\u001b[0;34m\u001b[0m\u001b[0;34m\u001b[0m\u001b[0m\n",
            "\u001b[0;32m/usr/local/lib/python3.10/dist-packages/ipykernel/kernelbase.py\u001b[0m in \u001b[0;36mraw_input\u001b[0;34m(self, prompt)\u001b[0m\n\u001b[1;32m    849\u001b[0m                 \u001b[0;34m\"raw_input was called, but this frontend does not support input requests.\"\u001b[0m\u001b[0;34m\u001b[0m\u001b[0;34m\u001b[0m\u001b[0m\n\u001b[1;32m    850\u001b[0m             )\n\u001b[0;32m--> 851\u001b[0;31m         return self._input_request(str(prompt),\n\u001b[0m\u001b[1;32m    852\u001b[0m             \u001b[0mself\u001b[0m\u001b[0;34m.\u001b[0m\u001b[0m_parent_ident\u001b[0m\u001b[0;34m,\u001b[0m\u001b[0;34m\u001b[0m\u001b[0;34m\u001b[0m\u001b[0m\n\u001b[1;32m    853\u001b[0m             \u001b[0mself\u001b[0m\u001b[0;34m.\u001b[0m\u001b[0m_parent_header\u001b[0m\u001b[0;34m,\u001b[0m\u001b[0;34m\u001b[0m\u001b[0;34m\u001b[0m\u001b[0m\n",
            "\u001b[0;32m/usr/local/lib/python3.10/dist-packages/ipykernel/kernelbase.py\u001b[0m in \u001b[0;36m_input_request\u001b[0;34m(self, prompt, ident, parent, password)\u001b[0m\n\u001b[1;32m    893\u001b[0m             \u001b[0;32mexcept\u001b[0m \u001b[0mKeyboardInterrupt\u001b[0m\u001b[0;34m:\u001b[0m\u001b[0;34m\u001b[0m\u001b[0;34m\u001b[0m\u001b[0m\n\u001b[1;32m    894\u001b[0m                 \u001b[0;31m# re-raise KeyboardInterrupt, to truncate traceback\u001b[0m\u001b[0;34m\u001b[0m\u001b[0;34m\u001b[0m\u001b[0m\n\u001b[0;32m--> 895\u001b[0;31m                 \u001b[0;32mraise\u001b[0m \u001b[0mKeyboardInterrupt\u001b[0m\u001b[0;34m(\u001b[0m\u001b[0;34m\"Interrupted by user\"\u001b[0m\u001b[0;34m)\u001b[0m \u001b[0;32mfrom\u001b[0m \u001b[0;32mNone\u001b[0m\u001b[0;34m\u001b[0m\u001b[0;34m\u001b[0m\u001b[0m\n\u001b[0m\u001b[1;32m    896\u001b[0m             \u001b[0;32mexcept\u001b[0m \u001b[0mException\u001b[0m \u001b[0;32mas\u001b[0m \u001b[0me\u001b[0m\u001b[0;34m:\u001b[0m\u001b[0;34m\u001b[0m\u001b[0;34m\u001b[0m\u001b[0m\n\u001b[1;32m    897\u001b[0m                 \u001b[0mself\u001b[0m\u001b[0;34m.\u001b[0m\u001b[0mlog\u001b[0m\u001b[0;34m.\u001b[0m\u001b[0mwarning\u001b[0m\u001b[0;34m(\u001b[0m\u001b[0;34m\"Invalid Message:\"\u001b[0m\u001b[0;34m,\u001b[0m \u001b[0mexc_info\u001b[0m\u001b[0;34m=\u001b[0m\u001b[0;32mTrue\u001b[0m\u001b[0;34m)\u001b[0m\u001b[0;34m\u001b[0m\u001b[0;34m\u001b[0m\u001b[0m\n",
            "\u001b[0;31mKeyboardInterrupt\u001b[0m: Interrupted by user"
          ]
        }
      ]
    }
  ]
}